{
 "cells": [
  {
   "cell_type": "code",
   "execution_count": 1,
   "metadata": {
    "collapsed": true
   },
   "outputs": [],
   "source": [
    "from pymongo import MongoClient\n",
    "from ted_sws import config\n",
    "from ted_sws.data_manager.adapters.notice_repository import NoticeRepository"
   ]
  },
  {
   "cell_type": "code",
   "execution_count": 2,
   "outputs": [],
   "source": [
    "mongodb_client = MongoClient(config.MONGO_DB_AUTH_URL)\n",
    "notice_repository = NoticeRepository(mongodb_client=mongodb_client)"
   ],
   "metadata": {
    "collapsed": false,
    "pycharm": {
     "name": "#%%\n"
    }
   }
  },
  {
   "cell_type": "code",
   "execution_count": 5,
   "outputs": [],
   "source": [
    "notices=list(notice_repository.list())"
   ],
   "metadata": {
    "collapsed": false,
    "pycharm": {
     "name": "#%%\n"
    }
   }
  },
  {
   "cell_type": "code",
   "execution_count": 14,
   "outputs": [
    {
     "name": "stdout",
     "output_type": "stream",
     "text": [
      "573.5576171875\n",
      "22.3876953125\n",
      "576.2978515625\n",
      "572.4072265625\n",
      "1105.3525390625\n",
      "1234.4384765625\n",
      "26.3955078125\n",
      "962.42578125\n",
      "547.7548828125\n",
      "537.1357421875\n",
      "668.3447265625\n",
      "544.921875\n",
      "522.2919921875\n",
      "584.3662109375\n",
      "526.83203125\n",
      "607.2822265625\n",
      "584.30078125\n",
      "523.9208984375\n",
      "536.7119140625\n",
      "543.3984375\n",
      "544.6279296875\n",
      "871.95703125\n",
      "542.2890625\n",
      "550.9541015625\n",
      "568.2197265625\n",
      "615.9345703125\n",
      "524.3251953125\n",
      "584.8134765625\n",
      "548.0341796875\n",
      "523.884765625\n",
      "2008.4541015625\n",
      "551.62890625\n",
      "536.5556640625\n",
      "524.4736328125\n",
      "583.4296875\n",
      "540.8251953125\n",
      "579.53125\n",
      "522.4033203125\n",
      "513.2109375\n",
      "547.4423828125\n",
      "595.19921875\n",
      "827.7177734375\n",
      "544.5419921875\n",
      "527.7255859375\n",
      "998.61328125\n",
      "1175.54296875\n",
      "557.1943359375\n",
      "2645.19140625\n",
      "905.94921875\n",
      "557.7431640625\n",
      "836.7236328125\n",
      "497.0078125\n",
      "644.2509765625\n",
      "538.0810546875\n",
      "727.212890625\n",
      "1593.322265625\n",
      "542.2421875\n",
      "563.2958984375\n",
      "492.455078125\n",
      "543.791015625\n",
      "3532.9970703125\n",
      "515.8466796875\n",
      "594.6181640625\n",
      "572.236328125\n",
      "526.53125\n",
      "936.162109375\n",
      "524.7060546875\n",
      "548.376953125\n",
      "701.7861328125\n",
      "490.6904296875\n",
      "541.580078125\n",
      "572.4501953125\n",
      "550.5869140625\n",
      "560.28125\n",
      "1203.5654296875\n",
      "576.76171875\n",
      "906.52734375\n",
      "522.091796875\n",
      "929.7802734375\n",
      "1115.3310546875\n",
      "561.2822265625\n",
      "797.9736328125\n"
     ]
    }
   ],
   "source": [
    "import json\n",
    "import sys\n",
    "\n",
    "for notice in notices:\n",
    "\tprint(sys.getsizeof(json.dumps(notice.dict()))/1024)"
   ],
   "metadata": {
    "collapsed": false,
    "pycharm": {
     "name": "#%%\n"
    }
   }
  },
  {
   "cell_type": "code",
   "execution_count": null,
   "outputs": [],
   "source": [],
   "metadata": {
    "collapsed": false,
    "pycharm": {
     "name": "#%%\n"
    }
   }
  }
 ],
 "metadata": {
  "kernelspec": {
   "display_name": "Python 3",
   "language": "python",
   "name": "python3"
  },
  "language_info": {
   "codemirror_mode": {
    "name": "ipython",
    "version": 2
   },
   "file_extension": ".py",
   "mimetype": "text/x-python",
   "name": "python",
   "nbconvert_exporter": "python",
   "pygments_lexer": "ipython2",
   "version": "2.7.6"
  }
 },
 "nbformat": 4,
 "nbformat_minor": 0
}