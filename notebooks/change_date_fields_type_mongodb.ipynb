{
 "cells": [
  {
   "cell_type": "code",
   "execution_count": 1,
   "metadata": {
    "collapsed": true
   },
   "outputs": [],
   "source": [
    "import project_config\n",
    "from pymongo import MongoClient\n",
    "from ted_sws import config\n",
    "from ted_sws.data_manager.adapters.notice_repository import NoticeRepository"
   ]
  },
  {
   "cell_type": "code",
   "execution_count": 3,
   "outputs": [],
   "source": [
    "mongodb_client = MongoClient(config.MONGO_DB_AUTH_URL)\n",
    "notice_repository = NoticeRepository(mongodb_client=mongodb_client)"
   ],
   "metadata": {
    "collapsed": false,
    "pycharm": {
     "name": "#%%\n"
    }
   }
  },
  {
   "cell_type": "code",
   "execution_count": 56,
   "outputs": [],
   "source": [
    "created_at_field_projections = notice_repository.collection.aggregate([\n",
    "    {\"$project\": {\n",
    "        \"created_at\": {\n",
    "            \"$toDate\": \"$created_at\"\n",
    "        }\n",
    "    }}\n",
    "])\n",
    "\n",
    "normalised_metadata_date_fields_projections = notice_repository.collection.aggregate([\n",
    "    {\n",
    "        \"$match\": {\"normalised_metadata\": {\"$ne\": None}}\n",
    "    },\n",
    "    {\n",
    "        \"$project\": {\n",
    "            \"normalised_metadata.publication_date\": {\n",
    "                \"$toDate\": \"$normalised_metadata.publication_date\"\n",
    "            },\n",
    "            \"normalised_metadata.document_sent_date\": {\n",
    "                \"$toDate\": \"$normalised_metadata.document_sent_date\"\n",
    "            }\n",
    "        }\n",
    "    }\n",
    "])\n"
   ],
   "metadata": {
    "collapsed": false,
    "pycharm": {
     "name": "#%%\n"
    }
   }
  },
  {
   "cell_type": "code",
   "execution_count": 53,
   "outputs": [],
   "source": [
    "def flatten_dict(tmp_dict, dict_key=''):\n",
    "    if type(tmp_dict) == dict:\n",
    "        dict_key = dict_key + '.' if dict_key else dict_key\n",
    "        for k in tmp_dict:\n",
    "            yield from flatten_dict(tmp_dict[k], dict_key + str(k))\n",
    "    else:\n",
    "        yield dict_key, tmp_dict\n",
    "\n",
    "\n",
    "def update_mongodb_documents(aggregate_results):\n",
    "    for aggregate_result in aggregate_results:\n",
    "        document_patch = {k:v for k,v in flatten_dict(aggregate_result)}\n",
    "        notice_repository.collection.update_one({'_id': document_patch['_id']}, {\"$set\": document_patch})"
   ],
   "metadata": {
    "collapsed": false,
    "pycharm": {
     "name": "#%%\n"
    }
   }
  },
  {
   "cell_type": "code",
   "execution_count": 55,
   "outputs": [],
   "source": [
    "print(\"Update field: created_at\")\n",
    "update_mongodb_documents(created_at_field_projections)\n",
    "print(\"Update fields: [normalised_metadata.publication_date, normalised_metadata.document_sent_date]\")\n",
    "update_mongodb_documents(normalised_metadata_date_fields_projections)\n"
   ],
   "metadata": {
    "collapsed": false,
    "pycharm": {
     "name": "#%%\n"
    }
   }
  }
 ],
 "metadata": {
  "kernelspec": {
   "display_name": "Python 3",
   "language": "python",
   "name": "python3"
  },
  "language_info": {
   "codemirror_mode": {
    "name": "ipython",
    "version": 2
   },
   "file_extension": ".py",
   "mimetype": "text/x-python",
   "name": "python",
   "nbconvert_exporter": "python",
   "pygments_lexer": "ipython2",
   "version": "2.7.6"
  }
 },
 "nbformat": 4,
 "nbformat_minor": 0
}