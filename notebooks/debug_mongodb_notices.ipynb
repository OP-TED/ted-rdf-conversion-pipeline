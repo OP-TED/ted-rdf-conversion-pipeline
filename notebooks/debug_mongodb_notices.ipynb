{
 "cells": [
  {
   "cell_type": "code",
   "execution_count": 1,
   "metadata": {
    "collapsed": true
   },
   "outputs": [],
   "source": [
    "import project_config\n",
    "import json\n",
    "import sys\n",
    "from collections import defaultdict\n",
    "from pymongo import MongoClient\n",
    "from ted_sws import config\n",
    "from ted_sws.data_manager.adapters.notice_repository import NoticeRepository"
   ]
  },
  {
   "cell_type": "code",
   "execution_count": 2,
   "outputs": [],
   "source": [
    "mongodb_client = MongoClient(config.MONGO_DB_AUTH_URL)\n",
    "notice_repository = NoticeRepository(mongodb_client=mongodb_client)"
   ],
   "metadata": {
    "collapsed": false,
    "pycharm": {
     "name": "#%%\n"
    }
   }
  },
  {
   "cell_type": "code",
   "execution_count": 3,
   "outputs": [],
   "source": [
    "notices=list(notice_repository.list())"
   ],
   "metadata": {
    "collapsed": false,
    "pycharm": {
     "name": "#%%\n"
    }
   }
  },
  {
   "cell_type": "code",
   "execution_count": 4,
   "outputs": [],
   "source": [
    "def analyze_dict_as_tree(data: dict, deep_level: int = 0):\n",
    "\tfor key in data.keys():\n",
    "\t\tprint(\" |  \"*deep_level,\"|\")\n",
    "\t\tprint(\" |  \"*deep_level,f\"|-->{key} : {sys.getsizeof(data[key])/1024}KB\")\n",
    "\t\tif type(data[key])==dict:\n",
    "\t\t\tanalyze_dict_as_tree(data[key], deep_level+1)\n",
    "\n",
    "def analyze_dict_as_paths(data: dict, current_path: str = \"\") -> dict:\n",
    "\tfields_size = {}\n",
    "\tfor key in data.keys():\n",
    "\t\ttmp_path = current_path+\"/\"+key\n",
    "\t\tif type(data[key]) == dict:\n",
    "\t\t\tfields_size.update(analyze_dict_as_paths(data[key], tmp_path))\n",
    "\t\telse:\n",
    "\t\t\tfields_size[tmp_path] = sys.getsizeof(json.dumps(data[key]))/1024\n",
    "\treturn fields_size"
   ],
   "metadata": {
    "collapsed": false,
    "pycharm": {
     "name": "#%%\n"
    }
   }
  },
  {
   "cell_type": "code",
   "execution_count": 5,
   "outputs": [],
   "source": [
    "result_dict = defaultdict(list)\n",
    "\n",
    "for notice in notices:\n",
    "\tnotice_dict = notice.dict()\n",
    "\ttmp_dict = analyze_dict_as_paths(notice_dict)\n",
    "\tfor key, value in tmp_dict.items():\n",
    "\t\tresult_dict[key].append(value)"
   ],
   "metadata": {
    "collapsed": false,
    "pycharm": {
     "name": "#%%\n"
    }
   }
  },
  {
   "cell_type": "code",
   "execution_count": 6,
   "outputs": [],
   "source": [
    "result_pairs = [ (key, value) for key, value in result_dict.items()]\n",
    "result_pairs = sorted(result_pairs,key=lambda x: x[1], reverse=True)"
   ],
   "metadata": {
    "collapsed": false,
    "pycharm": {
     "name": "#%%\n"
    }
   }
  },
  {
   "cell_type": "code",
   "execution_count": 7,
   "outputs": [
    {
     "name": "stdout",
     "output_type": "stream",
     "text": [
      "key = [/distilled_rdf_manifestation/sparql_validations   ] , max_size =     185.75 KB, max_size = 0.18 MB\n",
      "key = [/rdf_manifestation/sparql_validations             ] , max_size =     185.75 KB, max_size = 0.18 MB\n",
      "key = [/distilled_rdf_manifestation/shacl_validations    ] , max_size =      58.78 KB, max_size = 0.06 MB\n",
      "key = [/rdf_manifestation/shacl_validations              ] , max_size =      58.78 KB, max_size = 0.06 MB\n",
      "key = [/xml_manifestation/object_data                    ] , max_size =      28.95 KB, max_size = 0.03 MB\n",
      "key = [/distilled_rdf_manifestation/object_data          ] , max_size =      18.76 KB, max_size = 0.02 MB\n",
      "key = [/rdf_manifestation/object_data                    ] , max_size =      18.76 KB, max_size = 0.02 MB\n",
      "key = [/mets_manifestation/object_data                   ] , max_size =        8.0 KB, max_size = 0.01 MB\n",
      "key = [/normalised_metadata/long_title                   ] , max_size =       6.43 KB, max_size = 0.01 MB\n",
      "key = [/normalised_metadata/title                        ] , max_size =       5.71 KB, max_size = 0.01 MB\n",
      "key = [/normalised_metadata/name_of_buyer                ] , max_size =       2.83 KB, max_size = 0.0 MB\n",
      "key = [/normalised_metadata/city_of_buyer                ] , max_size =       0.61 KB, max_size = 0.0 MB\n",
      "key = [/normalised_metadata/place_of_performance         ] , max_size =       0.13 KB, max_size = 0.0 MB\n",
      "key = [/normalised_metadata/notice_type                  ] , max_size =       0.12 KB, max_size = 0.0 MB\n",
      "key = [/normalised_metadata/extracted_legal_basis_directive] , max_size =       0.12 KB, max_size = 0.0 MB\n",
      "key = [/normalised_metadata/legal_basis_directive        ] , max_size =       0.12 KB, max_size = 0.0 MB\n",
      "key = [/normalised_metadata/form_type                    ] , max_size =       0.11 KB, max_size = 0.0 MB\n",
      "key = [/normalised_metadata/original_language            ] , max_size =       0.11 KB, max_size = 0.0 MB\n",
      "key = [/normalised_metadata/country_of_buyer             ] , max_size =       0.11 KB, max_size = 0.0 MB\n",
      "key = [/created_at                                       ] , max_size =       0.08 KB, max_size = 0.0 MB\n",
      "key = [/normalised_metadata/publication_date             ] , max_size =       0.07 KB, max_size = 0.0 MB\n",
      "key = [/normalised_metadata/document_sent_date           ] , max_size =       0.07 KB, max_size = 0.0 MB\n",
      "key = [/normalised_metadata/xsd_version                  ] , max_size =       0.06 KB, max_size = 0.0 MB\n",
      "key = [/normalised_metadata/notice_publication_number    ] , max_size =       0.06 KB, max_size = 0.0 MB\n",
      "key = [/ted_id                                           ] , max_size =       0.06 KB, max_size = 0.0 MB\n",
      "key = [/normalised_metadata/form_number                  ] , max_size =       0.05 KB, max_size = 0.0 MB\n",
      "key = [/normalised_metadata/eu_institution               ] , max_size =       0.05 KB, max_size = 0.0 MB\n",
      "key = [/original_metadata                                ] , max_size =       0.05 KB, max_size = 0.0 MB\n",
      "key = [/xml_metadata                                     ] , max_size =       0.05 KB, max_size = 0.0 MB\n",
      "key = [/normalised_metadata/deadline_for_submission      ] , max_size =       0.05 KB, max_size = 0.0 MB\n",
      "key = [/normalised_metadata/eforms_subtype               ] , max_size =       0.05 KB, max_size = 0.0 MB\n",
      "key = [/preprocessed_xml_manifestation                   ] , max_size =       0.05 KB, max_size = 0.0 MB\n",
      "key = [/normalised_metadata/ojs_issue_number             ] , max_size =       0.05 KB, max_size = 0.0 MB\n",
      "key = [/normalised_metadata/ojs_type                     ] , max_size =       0.05 KB, max_size = 0.0 MB\n",
      "key = [/status                                           ] , max_size =       0.05 KB, max_size = 0.0 MB\n",
      "key = [/version_number                                   ] , max_size =       0.05 KB, max_size = 0.0 MB\n"
     ]
    }
   ],
   "source": [
    "\n",
    "for key, value in result_pairs:\n",
    "\tprint(f\"key = [{key:{50}}] , max_size = {round(value[0],2):{10}} KB, max_size = {round(value[0]/1024,2)} MB\")"
   ],
   "metadata": {
    "collapsed": false,
    "pycharm": {
     "name": "#%%\n"
    }
   }
  }
 ],
 "metadata": {
  "kernelspec": {
   "display_name": "Python 3",
   "language": "python",
   "name": "python3"
  },
  "language_info": {
   "codemirror_mode": {
    "name": "ipython",
    "version": 2
   },
   "file_extension": ".py",
   "mimetype": "text/x-python",
   "name": "python",
   "nbconvert_exporter": "python",
   "pygments_lexer": "ipython2",
   "version": "2.7.6"
  }
 },
 "nbformat": 4,
 "nbformat_minor": 0
}