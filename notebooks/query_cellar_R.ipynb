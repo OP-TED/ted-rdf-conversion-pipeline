{
 "cells": [
  {
   "cell_type": "code",
   "execution_count": null,
   "metadata": {
    "collapsed": false,
    "pycharm": {
     "name": "#%%\n"
    },
    "vscode": {
     "languageId": "r"
    }
   },
   "outputs": [],
   "source": [
    "# Installing necessary packages\n",
    "# install.packages('RCurl')\n",
    "# install.packages('XML')\n",
    "install.packages('SPARQL_1.16.tar.gz', repos = NULL, type =\"source\")"
   ]
  },
  {
   "cell_type": "code",
   "execution_count": null,
   "metadata": {
    "collapsed": false,
    "pycharm": {
     "name": "#%%\n"
    },
    "vscode": {
     "languageId": "r"
    }
   },
   "outputs": [],
   "source": [
    "# Importing necessary libraries\n",
    "library(SPARQL)\n",
    "\n",
    "# Preparing link to endpoint\n",
    "query_endpoint <- \"https://publications.europa.eu/webapi/rdf/sparql\"\n",
    "\n",
    "# Preparing query\n",
    "query <- '\n",
    "prefix cdm: <http://publications.europa.eu/ontology/cdm#>\n",
    "select distinct ?Countries\n",
    "where {\n",
    "?Countries a cdm:country\n",
    "}'"
   ]
  },
  {
   "cell_type": "code",
   "execution_count": null,
   "metadata": {
    "collapsed": false,
    "pycharm": {
     "name": "#%%\n"
    },
    "vscode": {
     "languageId": "r"
    }
   },
   "outputs": [],
   "source": [
    "# Quering endpoint\n",
    "query_data <- SPARQL(query_endpoint, query)\n",
    "\n",
    "# Access results as table (dataframe)\n",
    "data_frame <- query_data$results"
   ]
  },
  {
   "cell_type": "code",
   "execution_count": null,
   "metadata": {
    "pycharm": {
     "name": "#%%\n"
    },
    "vscode": {
     "languageId": "r"
    }
   },
   "outputs": [],
   "source": [
    "# Print result\n",
    "print(data_frame)"
   ]
  }
 ],
 "metadata": {
  "kernelspec": {
   "display_name": "R",
   "language": "R",
   "name": "ir"
  },
  "language_info": {
   "codemirror_mode": "r",
   "file_extension": ".r",
   "mimetype": "text/x-r-source",
   "name": "R",
   "pygments_lexer": "r",
   "version": "4.2.2"
  }
 },
 "nbformat": 4,
 "nbformat_minor": 0
}
