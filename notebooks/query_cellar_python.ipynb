{
 "cells": [
  {
   "cell_type": "code",
   "execution_count": null,
   "metadata": {
    "collapsed": false,
    "pycharm": {
     "name": "#%%\n"
    }
   },
   "outputs": [],
   "source": [
    "# Uncomment last line of this cell (by deleting #) to install necessary dependencies.\n",
    "\n",
    "#!pip install sparqlwrapper pandas Jinja2"
   ]
  },
  {
   "cell_type": "code",
   "execution_count": null,
   "metadata": {
    "collapsed": false,
    "pycharm": {
     "name": "#%%\n"
    }
   },
   "outputs": [],
   "source": [
    "# Import dependencies\n",
    "from io import StringIO\n",
    "from SPARQLWrapper import SPARQLWrapper, CSV\n",
    "from pandas import read_csv\n",
    "\n",
    "# Prepare variable with sparql endpoint\n",
    "QUERY_ENDPOINT: str = 'https://publications.europa.eu/webapi/rdf/sparql'\n",
    "\n",
    "# Example of sparql query\n",
    "SPARQL_QUERY: str = \"\"\"\n",
    "PREFIX epo: <http://data.europa.eu/a4g/ontology#>\n",
    "PREFIX cccev: <http://data.europa.eu/m8g/>\n",
    " \n",
    "SELECT (COUNT (DISTINCT (?Notice)) as ?NrOfNotices) WHERE { \n",
    " \n",
    "    ?Notice epo:hasPublicationDate ?Date .\n",
    "    ?Notice epo:announcesRole ?Buyer .\n",
    "    ?Buyer epo:playedBy ?Organization .\n",
    "    ?Organization cccev:registeredAddress / epo:hasCountryCode <http://publications.europa.eu/resource/authority/country/DEU> .\n",
    "\n",
    "    VALUES ?Date {\n",
    "    \"20230905\" \"20230906\"\n",
    "    }\n",
    "}\n",
    "\"\"\""
   ]
  },
  {
   "cell_type": "code",
   "execution_count": null,
   "metadata": {
    "collapsed": false,
    "pycharm": {
     "name": "#%%\n"
    }
   },
   "outputs": [],
   "source": [
    "# Prepare connection to sparql endpoint\n",
    "sparql_endpoint = SPARQLWrapper(QUERY_ENDPOINT)\n",
    "sparql_endpoint.setQuery(SPARQL_QUERY)\n",
    "sparql_endpoint.setReturnFormat(CSV)"
   ]
  },
  {
   "cell_type": "code",
   "execution_count": null,
   "metadata": {
    "collapsed": false,
    "pycharm": {
     "name": "#%%\n"
    }
   },
   "outputs": [],
   "source": [
    "# Request for query\n",
    "endpoint_result = sparql_endpoint.query().convert()\n",
    "# Convert endpoint result to table (dataframe)\n",
    "result_data = StringIO(str(endpoint_result, 'utf-8'))\n",
    "result_dataframe = read_csv(result_data)"
   ]
  },
  {
   "cell_type": "code",
   "execution_count": null,
   "metadata": {
    "collapsed": false,
    "pycharm": {
     "name": "#%%\n"
    }
   },
   "outputs": [],
   "source": [
    "# Print result\n",
    "result_dataframe.style"
   ]
  }
 ],
 "metadata": {
  "kernelspec": {
   "display_name": "Python 3",
   "language": "python",
   "name": "python3"
  },
  "language_info": {
   "codemirror_mode": {
    "name": "ipython",
    "version": 3
   },
   "file_extension": ".py",
   "mimetype": "text/x-python",
   "name": "python",
   "nbconvert_exporter": "python",
   "pygments_lexer": "ipython3",
   "version": "3.8.10"
  }
 },
 "nbformat": 4,
 "nbformat_minor": 0
}
