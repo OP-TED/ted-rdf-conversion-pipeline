{
 "cells": [
  {
   "cell_type": "markdown",
   "source": [
    "## This example show how to query sparql endpoint using Python.\n",
    "### To run this, press \"Run all\" button, or Ctrl+Shift+Alt+Enter"
   ],
   "metadata": {
    "collapsed": false,
    "pycharm": {
     "name": "#%% md\n"
    }
   }
  },
  {
   "cell_type": "code",
   "execution_count": 35,
   "outputs": [],
   "source": [
    "# Uncomment last line of this cell (by deleting #) to install necessary dependencies.\n",
    "\n",
    "#!pip install sparqlwrapper pandas"
   ],
   "metadata": {
    "collapsed": false,
    "pycharm": {
     "name": "#%%\n"
    }
   }
  },
  {
   "cell_type": "code",
   "execution_count": 36,
   "outputs": [],
   "source": [
    "# Import dependencies\n",
    "from io import StringIO\n",
    "from SPARQLWrapper import SPARQLWrapper, CSV\n",
    "from pandas import read_csv\n",
    "\n",
    "# Prepare variable with sparql endpoint\n",
    "QUERY_ENDPOINT: str = 'https://publications.europa.eu/webapi/rdf/sparql'\n",
    "\n",
    "# Example of sparql query\n",
    "SPARQL_QUERY: str = \"\"\"\n",
    "prefix cdm: <http://publications.europa.eu/ontology/cdm#>\n",
    "select distinct ?Countries\n",
    "where {\n",
    "?Countries a cdm:country\n",
    "}\n",
    "\"\"\""
   ],
   "metadata": {
    "collapsed": false,
    "pycharm": {
     "name": "#%%\n"
    }
   }
  },
  {
   "cell_type": "code",
   "execution_count": 37,
   "outputs": [],
   "source": [
    "# Prepare connection to sparql endpoint\n",
    "sparql_endpoint = SPARQLWrapper(QUERY_ENDPOINT)\n",
    "sparql_endpoint.setQuery(SPARQL_QUERY)\n",
    "sparql_endpoint.setReturnFormat(CSV)"
   ],
   "metadata": {
    "collapsed": false,
    "pycharm": {
     "name": "#%%\n"
    }
   }
  },
  {
   "cell_type": "code",
   "execution_count": 38,
   "outputs": [],
   "source": [
    "# Request for query\n",
    "endpoint_result = sparql_endpoint.query().convert()\n",
    "# Convert endpoint result to table (dataframe)\n",
    "result_data = StringIO(str(endpoint_result, 'utf-8'))\n",
    "result_dataframe = read_csv(result_data)"
   ],
   "metadata": {
    "collapsed": false,
    "pycharm": {
     "name": "#%%\n"
    }
   }
  },
  {
   "cell_type": "code",
   "execution_count": 42,
   "outputs": [
    {
     "data": {
      "text/plain": "                                             Countries\n0    http://publications.europa.eu/resource/authori...\n1    http://publications.europa.eu/resource/authori...\n2    http://publications.europa.eu/resource/authori...\n3    http://publications.europa.eu/resource/authori...\n4    http://publications.europa.eu/resource/authori...\n..                                                 ...\n215  http://publications.europa.eu/resource/authori...\n216  http://publications.europa.eu/resource/authori...\n217  http://publications.europa.eu/resource/authori...\n218  http://publications.europa.eu/resource/authori...\n219  http://publications.europa.eu/resource/authori...\n\n[220 rows x 1 columns]",
      "text/html": "<div>\n<style scoped>\n    .dataframe tbody tr th:only-of-type {\n        vertical-align: middle;\n    }\n\n    .dataframe tbody tr th {\n        vertical-align: top;\n    }\n\n    .dataframe thead th {\n        text-align: right;\n    }\n</style>\n<table border=\"1\" class=\"dataframe\">\n  <thead>\n    <tr style=\"text-align: right;\">\n      <th></th>\n      <th>Countries</th>\n    </tr>\n  </thead>\n  <tbody>\n    <tr>\n      <th>0</th>\n      <td>http://publications.europa.eu/resource/authori...</td>\n    </tr>\n    <tr>\n      <th>1</th>\n      <td>http://publications.europa.eu/resource/authori...</td>\n    </tr>\n    <tr>\n      <th>2</th>\n      <td>http://publications.europa.eu/resource/authori...</td>\n    </tr>\n    <tr>\n      <th>3</th>\n      <td>http://publications.europa.eu/resource/authori...</td>\n    </tr>\n    <tr>\n      <th>4</th>\n      <td>http://publications.europa.eu/resource/authori...</td>\n    </tr>\n    <tr>\n      <th>...</th>\n      <td>...</td>\n    </tr>\n    <tr>\n      <th>215</th>\n      <td>http://publications.europa.eu/resource/authori...</td>\n    </tr>\n    <tr>\n      <th>216</th>\n      <td>http://publications.europa.eu/resource/authori...</td>\n    </tr>\n    <tr>\n      <th>217</th>\n      <td>http://publications.europa.eu/resource/authori...</td>\n    </tr>\n    <tr>\n      <th>218</th>\n      <td>http://publications.europa.eu/resource/authori...</td>\n    </tr>\n    <tr>\n      <th>219</th>\n      <td>http://publications.europa.eu/resource/authori...</td>\n    </tr>\n  </tbody>\n</table>\n<p>220 rows × 1 columns</p>\n</div>"
     },
     "execution_count": 42,
     "metadata": {},
     "output_type": "execute_result"
    }
   ],
   "source": [
    "# Print result\n",
    "result_dataframe"
   ],
   "metadata": {
    "collapsed": false,
    "pycharm": {
     "name": "#%%\n"
    }
   }
  }
 ],
 "metadata": {
  "kernelspec": {
   "display_name": "Python 3",
   "language": "python",
   "name": "python3"
  },
  "language_info": {
   "codemirror_mode": {
    "name": "ipython",
    "version": 2
   },
   "file_extension": ".py",
   "mimetype": "text/x-python",
   "name": "python",
   "nbconvert_exporter": "python",
   "pygments_lexer": "ipython2",
   "version": "2.7.6"
  }
 },
 "nbformat": 4,
 "nbformat_minor": 0
}