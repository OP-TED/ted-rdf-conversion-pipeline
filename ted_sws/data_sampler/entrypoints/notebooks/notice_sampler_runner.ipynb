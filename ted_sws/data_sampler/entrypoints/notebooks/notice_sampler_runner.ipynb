{
 "cells": [
  {
   "cell_type": "code",
   "execution_count": 11,
   "metadata": {
    "collapsed": true
   },
   "outputs": [],
   "source": [
    "import pathlib\n",
    "\n",
    "PROJECT_PATH = \"../../../../\"\n",
    "import sys\n",
    "sys.path.append(PROJECT_PATH)\n",
    "sys.path = list(set(sys.path))\n",
    "import os\n",
    "os.chdir(PROJECT_PATH)\n",
    "from ted_sws.data_sampler.services.notice_sampler import store_notice_samples_in_file_system\n",
    "from ted_sws import config\n",
    "from pymongo import MongoClient"
   ]
  },
  {
   "cell_type": "code",
   "execution_count": 5,
   "outputs": [
    {
     "data": {
      "text/plain": "PosixPath('.')"
     },
     "execution_count": 5,
     "metadata": {},
     "output_type": "execute_result"
    }
   ],
   "source": [
    "mongodb_client = MongoClient(config.MONGO_DB_AUTH_URL)\n",
    "storage_path = pathlib.Path(\".\")\n",
    "store_notice_samples_in_file_system(mongodb_client=mongodb_client, storage_path=storage_path, top_k=50)"
   ],
   "metadata": {
    "collapsed": false,
    "pycharm": {
     "name": "#%%\n"
    }
   }
  }
 ],
 "metadata": {
  "kernelspec": {
   "display_name": "Python 3",
   "language": "python",
   "name": "python3"
  },
  "language_info": {
   "codemirror_mode": {
    "name": "ipython",
    "version": 2
   },
   "file_extension": ".py",
   "mimetype": "text/x-python",
   "name": "python",
   "nbconvert_exporter": "python",
   "pygments_lexer": "ipython2",
   "version": "2.7.6"
  }
 },
 "nbformat": 4,
 "nbformat_minor": 0
}