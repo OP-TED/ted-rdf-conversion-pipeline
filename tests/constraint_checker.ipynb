{
 "cells": [
  {
   "cell_type": "code",
   "execution_count": 25,
   "metadata": {
    "collapsed": true,
    "pycharm": {
     "name": "#%%\n"
    }
   },
   "outputs": [],
   "source": [
    "from io import StringIO\n",
    "# from constraint import Problem\n",
    "import pandas as pd\n",
    "\n",
    "# ll column is the juicy pivot\n",
    "E_NOTICES_STRUCT_EX = StringIO(\"\"\"\n",
    "form-type,notice-type,legal-basis,ll\n",
    "Planning,pin-buyer,D24,1\n",
    "Planning,pin-buyer,D25,2\n",
    "Planning,pin-buyer,D81,3\n",
    "Planning,pin-only,D24,4\n",
    "Planning,pin-only,D25,5\n",
    "Planning,pin-only,D81,6\n",
    "Planning,pin-rtl,D24,7\n",
    "Planning,pin-rtl,D25,8\n",
    "Planning,pin-rtl,D81,9\n",
    "Competition,pin-cfc-standard,D24,10\n",
    "Competition,pin-cfc-standard,D25,11\n",
    "Competition,pin-cfc-social,D24,12\n",
    "Competition,pin-cfc-social,D25,13\n",
    "Competition,pin-cfc-social,D23,14\n",
    "Competition,qu-sy ,D25,15\n",
    "Competition,cn-standard,D24,16\n",
    "Competition,cn-standard,D25,17\n",
    "Competition,cn-standard,D81,18\n",
    "Competition,cn-standard,D23,19\n",
    "Competition,cn-social,D24,20\n",
    "Competition,cn-social,D25,21\n",
    "Competition,subco,D81,22\n",
    "Competition,cn-desg,D24,23\n",
    "Competition,cn-desg,D25,24\n",
    "DAP,veat,D24,25\n",
    "DAP,veat,D25,26\n",
    "DAP,veat,D81,27\n",
    "DAP,veat,D23,28\n",
    "Result,can-standard,D24,29\n",
    "Result,can-standard,D25,30\n",
    "Result,can-standard,D81,31\n",
    "Result,can-standard,D23,32\n",
    "Result,can-social ,D24,33\n",
    "Result,can-social ,D25,34\n",
    "Result,can-social ,D23,35\n",
    "Result,can-desg,D24,36\n",
    "Result,can-desg,D25,37\n",
    "Contract modification,can-modif,D24,38\n",
    "Contract modification,can-modif,D25,39\n",
    "Contract modification,can-modif,D23,40\n",
    "Completion,CC,ANY,E5\n",
    "\"\"\")\n",
    "e_notice_df = pd.read_csv(E_NOTICES_STRUCT_EX, sep=\",\").fillna(\"\")\n"
   ]
  },
  {
   "cell_type": "code",
   "execution_count": 26,
   "outputs": [],
   "source": [
    "SF_NOTICES_STRUCT_EX  = StringIO(\"\"\"\n",
    "Form_element,Form_number,Notice_type,Legal_basis,Document_code,ll\n",
    "F01_2014,F01,PRI_CALL_COMPETITION,,A,10\n",
    "F01_2014,F01,PRI_ONLY,,0,4\n",
    "F01_2014,F01,PRI_REDUCING_TIME_LIMITS,,0,7\n",
    "F02_2014,F02,,,3 / Y,16\n",
    "F03_2014,F03,,,7,29\n",
    "F04_2014,F04,PER_CALL_COMPETITION,,M,11\n",
    "F04_2014,F04,PER_ONLY,,P,5\n",
    "F04_2014,F04,PER_REDUCING_TIME_LIMITS,,P,8\n",
    "F05_2014,F05,,,3 / Y,17\n",
    "F06_2014,F06,,,7,30\n",
    "F07_2014,F07,,,Q,15\n",
    "F07_2014,F07,QSU_CALL_COMPETITION,,O,15\n",
    "F08_2014,F08,,32009L0081,B,3\n",
    "F08_2014,F08,,32014L0024,B,1\n",
    "F08_2014,F08,,32014L0025,B,2\n",
    "F12_2014,F12,,32014L0024,D,23\n",
    "F12_2014,F12,,32014L0025,D,24\n",
    "F13_2014,F13,,32014L0024,R,36\n",
    "F13_2014,F13,,32014L0025,R,37\n",
    "F14_2014,F14,,,2,Change\n",
    "F14_2014,F14,,,1,Change\n",
    "F15_2014,F15,,32009L0081,V,27\n",
    "F15_2014,F15,,32014L0023,V,28\n",
    "F15_2014,F15,,32014L0024,V,25\n",
    "F15_2014,F15,,32014L0025,V,26\n",
    "PRIOR_INFORMATION_DEFENCE,F16,,32009L0081,0,6\n",
    "CONTRACT_DEFENCE,F17,,32009L0081,3,18\n",
    "CONTRACT_AWARD_DEFENCE,F18,,32009L0081,7,31\n",
    "CONTRACT_CONCESSIONAIRE_DEFENCE,F19,,32009L0081,F,22\n",
    "F20_2014,F20,,32004L0017,K,39\n",
    "F20_2014,F20,,32004L0018,K,38\n",
    "F20_2014,F20,,32007R1370,K,MOVE\n",
    "F20_2014,F20,,32009L0081,K,\n",
    "F20_2014,F20,,32014L0023,K,40\n",
    "F20_2014,F20,,32014L0024,K,38\n",
    "F20_2014,F20,,32014L0025,K,39\n",
    "F20_2014,F20,,32018R1046,K,38\n",
    "F20_2014,F20,,,K,\n",
    "F21_2014,F21,AWARD_CONTRACT,,7,33\n",
    "F21_2014,F21,CONTRACT,,3,20\n",
    "F21_2014,F21,PRI_CALL_COMPETITION,,A,12\n",
    "F21_2014,F21,PRI_ONLY,,0,4\n",
    "F22_2014,F22,AWARD_CONTRACT,,7,34\n",
    "F22_2014,F22,CONTRACT,,3,21\n",
    "F22_2014,F22,PER_CALL_COMPETITION,,M,13\n",
    "F22_2014,F22,PER_ONLY,,P,5\n",
    "F22_2014,F22,QSU_ONLY,,Q,15\n",
    "F23_2014,F23,CONCESSION_AWARD_CONTRACT,32014L0023,J,35\n",
    "F23_2014,F23,PRI,32014L0023,H,35\n",
    "F24_2014,F24,,32014L0023,C / H,19\n",
    "F25_2014,F25,,32014L0023,J,32\n",
    "MOVE,T01,,32007R1370,0,T01\n",
    "MOVE,T02,,32007R1370,7,T02\n",
    "EEIG,,,,G,X01\n",
    "OTH_NOT,,,32009L0081,1,Change\n",
    "OTH_NOT,,,32009L0081,2,Change\n",
    "OTH_NOT,,,32009L0081,3,18\n",
    "OTH_NOT,,,32009L0081,5,\n",
    "OTH_NOT,,,32009L0081,7,31\n",
    "OTH_NOT,,,32009L0081,I,CEI\n",
    "OTH_NOT,,,32009L0081,P,\n",
    "OTH_NOT,,,32009L0081,S,X02\n",
    "\"\"\")\n",
    "\n",
    "sf_notice_df = pd.read_csv(SF_NOTICES_STRUCT_EX, sep=\",\").fillna(\"\")"
   ],
   "metadata": {
    "collapsed": false,
    "pycharm": {
     "name": "#%%\n"
    }
   }
  },
  {
   "cell_type": "code",
   "execution_count": 27,
   "outputs": [],
   "source": [
    "# merging on ll column\n",
    "result = pd.merge (sf_notice_df, e_notice_df,on=\"ll\",how=\"left\")\n"
   ],
   "metadata": {
    "collapsed": false,
    "pycharm": {
     "name": "#%%\n"
    }
   }
  },
  {
   "cell_type": "code",
   "execution_count": 28,
   "outputs": [
    {
     "data": {
      "text/plain": "  Form_element Form_number Notice_type Legal_basis Document_code  ll  \\\n4     F03_2014         F03                                     7  29   \n\n  form-type   notice-type legal-basis  \n4    Result  can-standard         D24  ",
      "text/html": "<div>\n<style scoped>\n    .dataframe tbody tr th:only-of-type {\n        vertical-align: middle;\n    }\n\n    .dataframe tbody tr th {\n        vertical-align: top;\n    }\n\n    .dataframe thead th {\n        text-align: right;\n    }\n</style>\n<table border=\"1\" class=\"dataframe\">\n  <thead>\n    <tr style=\"text-align: right;\">\n      <th></th>\n      <th>Form_element</th>\n      <th>Form_number</th>\n      <th>Notice_type</th>\n      <th>Legal_basis</th>\n      <th>Document_code</th>\n      <th>ll</th>\n      <th>form-type</th>\n      <th>notice-type</th>\n      <th>legal-basis</th>\n    </tr>\n  </thead>\n  <tbody>\n    <tr>\n      <th>4</th>\n      <td>F03_2014</td>\n      <td>F03</td>\n      <td></td>\n      <td></td>\n      <td>7</td>\n      <td>29</td>\n      <td>Result</td>\n      <td>can-standard</td>\n      <td>D24</td>\n    </tr>\n  </tbody>\n</table>\n</div>"
     },
     "execution_count": 28,
     "metadata": {},
     "output_type": "execute_result"
    }
   ],
   "source": [
    "# filtering by a value\n",
    "#  e.g. all f03, one solution only\n",
    "result [(result[\"Form_number\"]==\"F03\")]"
   ],
   "metadata": {
    "collapsed": false,
    "pycharm": {
     "name": "#%%\n"
    }
   }
  },
  {
   "cell_type": "code",
   "execution_count": 29,
   "outputs": [
    {
     "data": {
      "text/plain": "   Form_element Form_number           Notice_type Legal_basis Document_code  \\\n38     F21_2014         F21        AWARD_CONTRACT                         7   \n39     F21_2014         F21              CONTRACT                         3   \n40     F21_2014         F21  PRI_CALL_COMPETITION                         A   \n41     F21_2014         F21              PRI_ONLY                         0   \n\n    ll    form-type     notice-type legal-basis  \n38  33       Result     can-social          D24  \n39  20  Competition       cn-social         D24  \n40  12  Competition  pin-cfc-social         D24  \n41   4     Planning        pin-only         D24  ",
      "text/html": "<div>\n<style scoped>\n    .dataframe tbody tr th:only-of-type {\n        vertical-align: middle;\n    }\n\n    .dataframe tbody tr th {\n        vertical-align: top;\n    }\n\n    .dataframe thead th {\n        text-align: right;\n    }\n</style>\n<table border=\"1\" class=\"dataframe\">\n  <thead>\n    <tr style=\"text-align: right;\">\n      <th></th>\n      <th>Form_element</th>\n      <th>Form_number</th>\n      <th>Notice_type</th>\n      <th>Legal_basis</th>\n      <th>Document_code</th>\n      <th>ll</th>\n      <th>form-type</th>\n      <th>notice-type</th>\n      <th>legal-basis</th>\n    </tr>\n  </thead>\n  <tbody>\n    <tr>\n      <th>38</th>\n      <td>F21_2014</td>\n      <td>F21</td>\n      <td>AWARD_CONTRACT</td>\n      <td></td>\n      <td>7</td>\n      <td>33</td>\n      <td>Result</td>\n      <td>can-social</td>\n      <td>D24</td>\n    </tr>\n    <tr>\n      <th>39</th>\n      <td>F21_2014</td>\n      <td>F21</td>\n      <td>CONTRACT</td>\n      <td></td>\n      <td>3</td>\n      <td>20</td>\n      <td>Competition</td>\n      <td>cn-social</td>\n      <td>D24</td>\n    </tr>\n    <tr>\n      <th>40</th>\n      <td>F21_2014</td>\n      <td>F21</td>\n      <td>PRI_CALL_COMPETITION</td>\n      <td></td>\n      <td>A</td>\n      <td>12</td>\n      <td>Competition</td>\n      <td>pin-cfc-social</td>\n      <td>D24</td>\n    </tr>\n    <tr>\n      <th>41</th>\n      <td>F21_2014</td>\n      <td>F21</td>\n      <td>PRI_ONLY</td>\n      <td></td>\n      <td>0</td>\n      <td>4</td>\n      <td>Planning</td>\n      <td>pin-only</td>\n      <td>D24</td>\n    </tr>\n  </tbody>\n</table>\n</div>"
     },
     "execution_count": 29,
     "metadata": {},
     "output_type": "execute_result"
    }
   ],
   "source": [
    "#  e.g. all f21, one solution only\n",
    "result [\n",
    "    (result[\"Form_number\"]==\"F21\")  # filter by F# and Ntype\n",
    "]"
   ],
   "metadata": {
    "collapsed": false,
    "pycharm": {
     "name": "#%%\n"
    }
   }
  },
  {
   "cell_type": "code",
   "execution_count": 30,
   "outputs": [
    {
     "data": {
      "text/plain": "   Form_element Form_number           Notice_type Legal_basis Document_code  \\\n42     F22_2014         F22        AWARD_CONTRACT                         7   \n43     F22_2014         F22              CONTRACT                         3   \n44     F22_2014         F22  PER_CALL_COMPETITION                         M   \n45     F22_2014         F22              PER_ONLY                         P   \n46     F22_2014         F22              QSU_ONLY                         Q   \n\n    ll    form-type     notice-type legal-basis  \n42  34       Result     can-social          D25  \n43  21  Competition       cn-social         D25  \n44  13  Competition  pin-cfc-social         D25  \n45   5     Planning        pin-only         D25  \n46  15  Competition          qu-sy          D25  ",
      "text/html": "<div>\n<style scoped>\n    .dataframe tbody tr th:only-of-type {\n        vertical-align: middle;\n    }\n\n    .dataframe tbody tr th {\n        vertical-align: top;\n    }\n\n    .dataframe thead th {\n        text-align: right;\n    }\n</style>\n<table border=\"1\" class=\"dataframe\">\n  <thead>\n    <tr style=\"text-align: right;\">\n      <th></th>\n      <th>Form_element</th>\n      <th>Form_number</th>\n      <th>Notice_type</th>\n      <th>Legal_basis</th>\n      <th>Document_code</th>\n      <th>ll</th>\n      <th>form-type</th>\n      <th>notice-type</th>\n      <th>legal-basis</th>\n    </tr>\n  </thead>\n  <tbody>\n    <tr>\n      <th>42</th>\n      <td>F22_2014</td>\n      <td>F22</td>\n      <td>AWARD_CONTRACT</td>\n      <td></td>\n      <td>7</td>\n      <td>34</td>\n      <td>Result</td>\n      <td>can-social</td>\n      <td>D25</td>\n    </tr>\n    <tr>\n      <th>43</th>\n      <td>F22_2014</td>\n      <td>F22</td>\n      <td>CONTRACT</td>\n      <td></td>\n      <td>3</td>\n      <td>21</td>\n      <td>Competition</td>\n      <td>cn-social</td>\n      <td>D25</td>\n    </tr>\n    <tr>\n      <th>44</th>\n      <td>F22_2014</td>\n      <td>F22</td>\n      <td>PER_CALL_COMPETITION</td>\n      <td></td>\n      <td>M</td>\n      <td>13</td>\n      <td>Competition</td>\n      <td>pin-cfc-social</td>\n      <td>D25</td>\n    </tr>\n    <tr>\n      <th>45</th>\n      <td>F22_2014</td>\n      <td>F22</td>\n      <td>PER_ONLY</td>\n      <td></td>\n      <td>P</td>\n      <td>5</td>\n      <td>Planning</td>\n      <td>pin-only</td>\n      <td>D25</td>\n    </tr>\n    <tr>\n      <th>46</th>\n      <td>F22_2014</td>\n      <td>F22</td>\n      <td>QSU_ONLY</td>\n      <td></td>\n      <td>Q</td>\n      <td>15</td>\n      <td>Competition</td>\n      <td>qu-sy</td>\n      <td>D25</td>\n    </tr>\n  </tbody>\n</table>\n</div>"
     },
     "execution_count": 30,
     "metadata": {},
     "output_type": "execute_result"
    }
   ],
   "source": [
    "#  e.g. all f22, many solutions\n",
    "result [\n",
    "    (result[\"Form_number\"]==\"F22\")  # filter by F# and Ntype\n",
    "]"
   ],
   "metadata": {
    "collapsed": false,
    "pycharm": {
     "name": "#%%\n"
    }
   }
  },
  {
   "cell_type": "code",
   "execution_count": 55,
   "outputs": [
    {
     "name": "stdout",
     "output_type": "stream",
     "text": [
      "Form_number=='F08'and Legal_basis=='32014L0024'\n",
      "Form_number=='F22'and Notice_type=='AWARD_CONTRACT'\n"
     ]
    },
    {
     "data": {
      "text/plain": "   Form_element Form_number     Notice_type Legal_basis Document_code  ll  \\\n42     F22_2014         F22  AWARD_CONTRACT                         7  34   \n\n   form-type  notice-type legal-basis  \n42    Result  can-social          D25  ",
      "text/html": "<div>\n<style scoped>\n    .dataframe tbody tr th:only-of-type {\n        vertical-align: middle;\n    }\n\n    .dataframe tbody tr th {\n        vertical-align: top;\n    }\n\n    .dataframe thead th {\n        text-align: right;\n    }\n</style>\n<table border=\"1\" class=\"dataframe\">\n  <thead>\n    <tr style=\"text-align: right;\">\n      <th></th>\n      <th>Form_element</th>\n      <th>Form_number</th>\n      <th>Notice_type</th>\n      <th>Legal_basis</th>\n      <th>Document_code</th>\n      <th>ll</th>\n      <th>form-type</th>\n      <th>notice-type</th>\n      <th>legal-basis</th>\n    </tr>\n  </thead>\n  <tbody>\n    <tr>\n      <th>42</th>\n      <td>F22_2014</td>\n      <td>F22</td>\n      <td>AWARD_CONTRACT</td>\n      <td></td>\n      <td>7</td>\n      <td>34</td>\n      <td>Result</td>\n      <td>can-social</td>\n      <td>D25</td>\n    </tr>\n  </tbody>\n</table>\n</div>"
     },
     "execution_count": 55,
     "metadata": {},
     "output_type": "execute_result"
    }
   ],
   "source": [
    "# return df[\n",
    "#     (result[\"Form_number\"]==form_number)\n",
    "#      #&((result[\"Notice_type\"]==notice_type) | (result[\"Notice_type\"]==legal_basis))\n",
    "#     ]\n",
    "\n",
    "# return df[\n",
    "#         ((result[\"Form_number\"]==form_number) & (result[\"Notice_type\"]==notice_type)) |\n",
    "#         ((result[\"Form_number\"]==form_number) & (result[\"Notice_type\"]==legal_basis))\n",
    "#     ]\n",
    "\n",
    "def filter_by_notice_type_or_legal_basis(df, form_number, notice_type=None, legal_basis=None):\n",
    "    query_string = f\"Form_number=='{form_number}'\"\n",
    "    if notice_type:\n",
    "        query_string += f\"and Notice_type=='{notice_type}'\"\n",
    "    if legal_basis:\n",
    "        query_string += f\"and Legal_basis=='{legal_basis}'\"\n",
    "    print (query_string)\n",
    "    return df.query(query_string)\n",
    "\n",
    "#&&\n",
    "filter_by_notice_type_or_legal_basis(result, \"F08\", legal_basis=\"32014L0024\")\n",
    "#&&\n",
    "filter_by_notice_type_or_legal_basis(result, \"F22\", notice_type=\"AWARD_CONTRACT\")\n"
   ],
   "metadata": {
    "collapsed": false,
    "pycharm": {
     "name": "#%%\n"
    }
   }
  }
 ],
 "metadata": {
  "kernelspec": {
   "display_name": "Python 3",
   "language": "python",
   "name": "python3"
  },
  "language_info": {
   "codemirror_mode": {
    "name": "ipython",
    "version": 2
   },
   "file_extension": ".py",
   "mimetype": "text/x-python",
   "name": "python",
   "nbconvert_exporter": "python",
   "pygments_lexer": "ipython2",
   "version": "2.7.6"
  }
 },
 "nbformat": 4,
 "nbformat_minor": 0
}