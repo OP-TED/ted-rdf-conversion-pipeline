{
 "cells": [
  {
   "cell_type": "code",
   "execution_count": 3,
   "metadata": {
    "collapsed": true
   },
   "outputs": [],
   "source": [
    "import sys\n",
    "sys.path.append(\"/mnt/c/Users/capitan/Desktop/WORKS/MEANING/ted-sws\")\n",
    "sys.path = list(set(sys.path))\n",
    "import os\n",
    "os.getcwd()\n",
    "os.chdir(\"/mnt/c/Users/capitan/Desktop/WORKS/MEANING/ted-sws\")\n",
    "import pandas as pd\n",
    "from ted_sws.data_manager.adapters.mapping_suite_repository import TRANSFORM_PACKAGE_NAME\n",
    "from ted_sws.mapping_suite_processor.services.conceptual_mapping_processor import CONCEPTUAL_MAPPINGS_FILE_NAME\n",
    "from tests import TEST_DATA_PATH"
   ]
  },
  {
   "cell_type": "code",
   "execution_count": 6,
   "outputs": [],
   "source": [
    "conceptual_mappings_file_path = TEST_DATA_PATH / \"notice_transformer\" / \"mapping_suite_processor_repository\" / \"test_package\" / TRANSFORM_PACKAGE_NAME / CONCEPTUAL_MAPPINGS_FILE_NAME"
   ],
   "metadata": {
    "collapsed": false,
    "pycharm": {
     "name": "#%%\n"
    }
   }
  },
  {
   "cell_type": "code",
   "execution_count": 9,
   "outputs": [],
   "source": [
    "df = pd.read_excel(conceptual_mappings_file_path,sheet_name=\"Metadata\")"
   ],
   "metadata": {
    "collapsed": false,
    "pycharm": {
     "name": "#%%\n"
    }
   }
  },
  {
   "cell_type": "code",
   "execution_count": 10,
   "outputs": [
    {
     "data": {
      "text/plain": "                   Field  Value examples\n0            Form number             F03\n1            Legal Basis               *\n2                   Year               *\n3   Notice type (eForms)             NaN\n4      Form type(eForms)             NaN\n5                Version           0.0.1\n6            EPO version     3.0.0.alpha\n7  XSD version number(s)  R2.0.9.S05.E01\n8                  Title    sample_title\n9             Identifier      mapping_id",
      "text/html": "<div>\n<style scoped>\n    .dataframe tbody tr th:only-of-type {\n        vertical-align: middle;\n    }\n\n    .dataframe tbody tr th {\n        vertical-align: top;\n    }\n\n    .dataframe thead th {\n        text-align: right;\n    }\n</style>\n<table border=\"1\" class=\"dataframe\">\n  <thead>\n    <tr style=\"text-align: right;\">\n      <th></th>\n      <th>Field</th>\n      <th>Value examples</th>\n    </tr>\n  </thead>\n  <tbody>\n    <tr>\n      <th>0</th>\n      <td>Form number</td>\n      <td>F03</td>\n    </tr>\n    <tr>\n      <th>1</th>\n      <td>Legal Basis</td>\n      <td>*</td>\n    </tr>\n    <tr>\n      <th>2</th>\n      <td>Year</td>\n      <td>*</td>\n    </tr>\n    <tr>\n      <th>3</th>\n      <td>Notice type (eForms)</td>\n      <td>NaN</td>\n    </tr>\n    <tr>\n      <th>4</th>\n      <td>Form type(eForms)</td>\n      <td>NaN</td>\n    </tr>\n    <tr>\n      <th>5</th>\n      <td>Version</td>\n      <td>0.0.1</td>\n    </tr>\n    <tr>\n      <th>6</th>\n      <td>EPO version</td>\n      <td>3.0.0.alpha</td>\n    </tr>\n    <tr>\n      <th>7</th>\n      <td>XSD version number(s)</td>\n      <td>R2.0.9.S05.E01</td>\n    </tr>\n    <tr>\n      <th>8</th>\n      <td>Title</td>\n      <td>sample_title</td>\n    </tr>\n    <tr>\n      <th>9</th>\n      <td>Identifier</td>\n      <td>mapping_id</td>\n    </tr>\n  </tbody>\n</table>\n</div>"
     },
     "execution_count": 10,
     "metadata": {},
     "output_type": "execute_result"
    }
   ],
   "source": [
    "df"
   ],
   "metadata": {
    "collapsed": false,
    "pycharm": {
     "name": "#%%\n"
    }
   }
  }
 ],
 "metadata": {
  "kernelspec": {
   "display_name": "Python 3",
   "language": "python",
   "name": "python3"
  },
  "language_info": {
   "codemirror_mode": {
    "name": "ipython",
    "version": 2
   },
   "file_extension": ".py",
   "mimetype": "text/x-python",
   "name": "python",
   "nbconvert_exporter": "python",
   "pygments_lexer": "ipython2",
   "version": "2.7.6"
  }
 },
 "nbformat": 4,
 "nbformat_minor": 0
}